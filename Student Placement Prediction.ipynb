{
 "cells": [
  {
   "cell_type": "markdown",
   "id": "d09f2301",
   "metadata": {},
   "source": [
    "## Student Placement Prediction using Logistic Regression"
   ]
  },
  {
   "cell_type": "markdown",
   "id": "17378497",
   "metadata": {},
   "source": [
    "### Import Library"
   ]
  },
  {
   "cell_type": "code",
   "execution_count": 1,
   "id": "748b5ace",
   "metadata": {},
   "outputs": [],
   "source": [
    "import pandas as pd"
   ]
  },
  {
   "cell_type": "code",
   "execution_count": 2,
   "id": "6c6e9b99",
   "metadata": {},
   "outputs": [],
   "source": [
    "import numpy as np"
   ]
  },
  {
   "cell_type": "markdown",
   "id": "0cb67819",
   "metadata": {},
   "source": [
    "### Import DataFrame"
   ]
  },
  {
   "cell_type": "code",
   "execution_count": 3,
   "id": "9d4bde4b",
   "metadata": {},
   "outputs": [],
   "source": [
    "df=pd.read_csv(r\"https://github.com/YBI-Foundation/Dataset/raw/main/Placement.csv\")"
   ]
  },
  {
   "cell_type": "markdown",
   "id": "d0eccf06",
   "metadata": {},
   "source": [
    "### Get First Five Rows of Dataframe"
   ]
  },
  {
   "cell_type": "code",
   "execution_count": 4,
   "id": "9280f238",
   "metadata": {},
   "outputs": [
    {
     "data": {
      "text/html": [
       "<div>\n",
       "<style scoped>\n",
       "    .dataframe tbody tr th:only-of-type {\n",
       "        vertical-align: middle;\n",
       "    }\n",
       "\n",
       "    .dataframe tbody tr th {\n",
       "        vertical-align: top;\n",
       "    }\n",
       "\n",
       "    .dataframe thead th {\n",
       "        text-align: right;\n",
       "    }\n",
       "</style>\n",
       "<table border=\"1\" class=\"dataframe\">\n",
       "  <thead>\n",
       "    <tr style=\"text-align: right;\">\n",
       "      <th></th>\n",
       "      <th>Student_ID</th>\n",
       "      <th>CGPA</th>\n",
       "      <th>IQ</th>\n",
       "      <th>Placement</th>\n",
       "    </tr>\n",
       "  </thead>\n",
       "  <tbody>\n",
       "    <tr>\n",
       "      <th>0</th>\n",
       "      <td>1</td>\n",
       "      <td>6.8</td>\n",
       "      <td>123</td>\n",
       "      <td>1</td>\n",
       "    </tr>\n",
       "    <tr>\n",
       "      <th>1</th>\n",
       "      <td>2</td>\n",
       "      <td>5.9</td>\n",
       "      <td>106</td>\n",
       "      <td>0</td>\n",
       "    </tr>\n",
       "    <tr>\n",
       "      <th>2</th>\n",
       "      <td>3</td>\n",
       "      <td>5.3</td>\n",
       "      <td>121</td>\n",
       "      <td>0</td>\n",
       "    </tr>\n",
       "    <tr>\n",
       "      <th>3</th>\n",
       "      <td>4</td>\n",
       "      <td>7.4</td>\n",
       "      <td>132</td>\n",
       "      <td>1</td>\n",
       "    </tr>\n",
       "    <tr>\n",
       "      <th>4</th>\n",
       "      <td>5</td>\n",
       "      <td>5.8</td>\n",
       "      <td>142</td>\n",
       "      <td>0</td>\n",
       "    </tr>\n",
       "  </tbody>\n",
       "</table>\n",
       "</div>"
      ],
      "text/plain": [
       "   Student_ID  CGPA   IQ  Placement\n",
       "0           1   6.8  123          1\n",
       "1           2   5.9  106          0\n",
       "2           3   5.3  121          0\n",
       "3           4   7.4  132          1\n",
       "4           5   5.8  142          0"
      ]
     },
     "execution_count": 4,
     "metadata": {},
     "output_type": "execute_result"
    }
   ],
   "source": [
    "df.head()"
   ]
  },
  {
   "cell_type": "markdown",
   "id": "6789785a",
   "metadata": {},
   "source": [
    "### Get Information of Dataframe"
   ]
  },
  {
   "cell_type": "code",
   "execution_count": 5,
   "id": "cdb4cf5e",
   "metadata": {},
   "outputs": [
    {
     "name": "stdout",
     "output_type": "stream",
     "text": [
      "<class 'pandas.core.frame.DataFrame'>\n",
      "RangeIndex: 100 entries, 0 to 99\n",
      "Data columns (total 4 columns):\n",
      " #   Column      Non-Null Count  Dtype  \n",
      "---  ------      --------------  -----  \n",
      " 0   Student_ID  100 non-null    int64  \n",
      " 1   CGPA        100 non-null    float64\n",
      " 2   IQ          100 non-null    int64  \n",
      " 3   Placement   100 non-null    int64  \n",
      "dtypes: float64(1), int64(3)\n",
      "memory usage: 3.2 KB\n"
     ]
    }
   ],
   "source": [
    "df.info()"
   ]
  },
  {
   "cell_type": "markdown",
   "id": "0b401500",
   "metadata": {},
   "source": [
    "### Get Summary Statistics"
   ]
  },
  {
   "cell_type": "code",
   "execution_count": 6,
   "id": "d52f1150",
   "metadata": {},
   "outputs": [
    {
     "data": {
      "text/html": [
       "<div>\n",
       "<style scoped>\n",
       "    .dataframe tbody tr th:only-of-type {\n",
       "        vertical-align: middle;\n",
       "    }\n",
       "\n",
       "    .dataframe tbody tr th {\n",
       "        vertical-align: top;\n",
       "    }\n",
       "\n",
       "    .dataframe thead th {\n",
       "        text-align: right;\n",
       "    }\n",
       "</style>\n",
       "<table border=\"1\" class=\"dataframe\">\n",
       "  <thead>\n",
       "    <tr style=\"text-align: right;\">\n",
       "      <th></th>\n",
       "      <th>Student_ID</th>\n",
       "      <th>CGPA</th>\n",
       "      <th>IQ</th>\n",
       "      <th>Placement</th>\n",
       "    </tr>\n",
       "  </thead>\n",
       "  <tbody>\n",
       "    <tr>\n",
       "      <th>count</th>\n",
       "      <td>100.000000</td>\n",
       "      <td>100.000000</td>\n",
       "      <td>100.000000</td>\n",
       "      <td>100.000000</td>\n",
       "    </tr>\n",
       "    <tr>\n",
       "      <th>mean</th>\n",
       "      <td>50.500000</td>\n",
       "      <td>5.991000</td>\n",
       "      <td>123.580000</td>\n",
       "      <td>0.500000</td>\n",
       "    </tr>\n",
       "    <tr>\n",
       "      <th>std</th>\n",
       "      <td>29.011492</td>\n",
       "      <td>1.143634</td>\n",
       "      <td>39.944198</td>\n",
       "      <td>0.502519</td>\n",
       "    </tr>\n",
       "    <tr>\n",
       "      <th>min</th>\n",
       "      <td>1.000000</td>\n",
       "      <td>3.300000</td>\n",
       "      <td>37.000000</td>\n",
       "      <td>0.000000</td>\n",
       "    </tr>\n",
       "    <tr>\n",
       "      <th>25%</th>\n",
       "      <td>25.750000</td>\n",
       "      <td>5.075000</td>\n",
       "      <td>101.500000</td>\n",
       "      <td>0.000000</td>\n",
       "    </tr>\n",
       "    <tr>\n",
       "      <th>50%</th>\n",
       "      <td>50.500000</td>\n",
       "      <td>6.000000</td>\n",
       "      <td>127.500000</td>\n",
       "      <td>0.500000</td>\n",
       "    </tr>\n",
       "    <tr>\n",
       "      <th>75%</th>\n",
       "      <td>75.250000</td>\n",
       "      <td>6.900000</td>\n",
       "      <td>149.000000</td>\n",
       "      <td>1.000000</td>\n",
       "    </tr>\n",
       "    <tr>\n",
       "      <th>max</th>\n",
       "      <td>100.000000</td>\n",
       "      <td>8.500000</td>\n",
       "      <td>233.000000</td>\n",
       "      <td>1.000000</td>\n",
       "    </tr>\n",
       "  </tbody>\n",
       "</table>\n",
       "</div>"
      ],
      "text/plain": [
       "       Student_ID        CGPA          IQ   Placement\n",
       "count  100.000000  100.000000  100.000000  100.000000\n",
       "mean    50.500000    5.991000  123.580000    0.500000\n",
       "std     29.011492    1.143634   39.944198    0.502519\n",
       "min      1.000000    3.300000   37.000000    0.000000\n",
       "25%     25.750000    5.075000  101.500000    0.000000\n",
       "50%     50.500000    6.000000  127.500000    0.500000\n",
       "75%     75.250000    6.900000  149.000000    1.000000\n",
       "max    100.000000    8.500000  233.000000    1.000000"
      ]
     },
     "execution_count": 6,
     "metadata": {},
     "output_type": "execute_result"
    }
   ],
   "source": [
    "df.describe()"
   ]
  },
  {
   "cell_type": "markdown",
   "id": "2f13345f",
   "metadata": {},
   "source": [
    "### Get Column Names"
   ]
  },
  {
   "cell_type": "code",
   "execution_count": 7,
   "id": "74565b6d",
   "metadata": {},
   "outputs": [
    {
     "data": {
      "text/plain": [
       "Index(['Student_ID', 'CGPA', 'IQ', 'Placement'], dtype='object')"
      ]
     },
     "execution_count": 7,
     "metadata": {},
     "output_type": "execute_result"
    }
   ],
   "source": [
    "df.columns"
   ]
  },
  {
   "cell_type": "markdown",
   "id": "86139d22",
   "metadata": {},
   "source": [
    "### Get Shape of DataFrame"
   ]
  },
  {
   "cell_type": "code",
   "execution_count": 8,
   "id": "4cf185a3",
   "metadata": {},
   "outputs": [
    {
     "data": {
      "text/plain": [
       "(100, 4)"
      ]
     },
     "execution_count": 8,
     "metadata": {},
     "output_type": "execute_result"
    }
   ],
   "source": [
    "df.shape"
   ]
  },
  {
   "cell_type": "markdown",
   "id": "b59f9828",
   "metadata": {},
   "source": [
    "### Get Unique Values in y variable"
   ]
  },
  {
   "cell_type": "code",
   "execution_count": 9,
   "id": "331936ea",
   "metadata": {},
   "outputs": [
    {
     "data": {
      "text/plain": [
       "1    50\n",
       "0    50\n",
       "Name: Placement, dtype: int64"
      ]
     },
     "execution_count": 9,
     "metadata": {},
     "output_type": "execute_result"
    }
   ],
   "source": [
    "df['Placement'].value_counts()"
   ]
  },
  {
   "cell_type": "code",
   "execution_count": 10,
   "id": "e878e0d4",
   "metadata": {},
   "outputs": [
    {
     "data": {
      "text/html": [
       "<div>\n",
       "<style scoped>\n",
       "    .dataframe tbody tr th:only-of-type {\n",
       "        vertical-align: middle;\n",
       "    }\n",
       "\n",
       "    .dataframe tbody tr th {\n",
       "        vertical-align: top;\n",
       "    }\n",
       "\n",
       "    .dataframe thead th {\n",
       "        text-align: right;\n",
       "    }\n",
       "</style>\n",
       "<table border=\"1\" class=\"dataframe\">\n",
       "  <thead>\n",
       "    <tr style=\"text-align: right;\">\n",
       "      <th></th>\n",
       "      <th>Student_ID</th>\n",
       "      <th>CGPA</th>\n",
       "      <th>IQ</th>\n",
       "    </tr>\n",
       "    <tr>\n",
       "      <th>Placement</th>\n",
       "      <th></th>\n",
       "      <th></th>\n",
       "      <th></th>\n",
       "    </tr>\n",
       "  </thead>\n",
       "  <tbody>\n",
       "    <tr>\n",
       "      <th>0</th>\n",
       "      <td>46.32</td>\n",
       "      <td>5.056</td>\n",
       "      <td>126.88</td>\n",
       "    </tr>\n",
       "    <tr>\n",
       "      <th>1</th>\n",
       "      <td>54.68</td>\n",
       "      <td>6.926</td>\n",
       "      <td>120.28</td>\n",
       "    </tr>\n",
       "  </tbody>\n",
       "</table>\n",
       "</div>"
      ],
      "text/plain": [
       "           Student_ID   CGPA      IQ\n",
       "Placement                           \n",
       "0               46.32  5.056  126.88\n",
       "1               54.68  6.926  120.28"
      ]
     },
     "execution_count": 10,
     "metadata": {},
     "output_type": "execute_result"
    }
   ],
   "source": [
    "df.groupby('Placement').mean()"
   ]
  },
  {
   "cell_type": "markdown",
   "id": "510ce22e",
   "metadata": {},
   "source": [
    "### Define y and X"
   ]
  },
  {
   "cell_type": "code",
   "execution_count": 11,
   "id": "54efbce2",
   "metadata": {},
   "outputs": [],
   "source": [
    "y=df['Placement']"
   ]
  },
  {
   "cell_type": "code",
   "execution_count": 12,
   "id": "6fdefb3c",
   "metadata": {},
   "outputs": [
    {
     "data": {
      "text/plain": [
       "(100,)"
      ]
     },
     "execution_count": 12,
     "metadata": {},
     "output_type": "execute_result"
    }
   ],
   "source": [
    "y.shape"
   ]
  },
  {
   "cell_type": "code",
   "execution_count": 13,
   "id": "9e7c2633",
   "metadata": {},
   "outputs": [
    {
     "data": {
      "text/plain": [
       "0     1\n",
       "1     0\n",
       "2     0\n",
       "3     1\n",
       "4     0\n",
       "     ..\n",
       "95    0\n",
       "96    0\n",
       "97    1\n",
       "98    1\n",
       "99    1\n",
       "Name: Placement, Length: 100, dtype: int64"
      ]
     },
     "execution_count": 13,
     "metadata": {},
     "output_type": "execute_result"
    }
   ],
   "source": [
    "y"
   ]
  },
  {
   "cell_type": "code",
   "execution_count": 14,
   "id": "62f8f77b",
   "metadata": {},
   "outputs": [],
   "source": [
    "X=df[['CGPA','IQ']]"
   ]
  },
  {
   "cell_type": "code",
   "execution_count": 15,
   "id": "40e1c334",
   "metadata": {},
   "outputs": [
    {
     "data": {
      "text/plain": [
       "(100, 2)"
      ]
     },
     "execution_count": 15,
     "metadata": {},
     "output_type": "execute_result"
    }
   ],
   "source": [
    "X.shape"
   ]
  },
  {
   "cell_type": "code",
   "execution_count": 16,
   "id": "c39f0d6f",
   "metadata": {},
   "outputs": [
    {
     "data": {
      "text/html": [
       "<div>\n",
       "<style scoped>\n",
       "    .dataframe tbody tr th:only-of-type {\n",
       "        vertical-align: middle;\n",
       "    }\n",
       "\n",
       "    .dataframe tbody tr th {\n",
       "        vertical-align: top;\n",
       "    }\n",
       "\n",
       "    .dataframe thead th {\n",
       "        text-align: right;\n",
       "    }\n",
       "</style>\n",
       "<table border=\"1\" class=\"dataframe\">\n",
       "  <thead>\n",
       "    <tr style=\"text-align: right;\">\n",
       "      <th></th>\n",
       "      <th>CGPA</th>\n",
       "      <th>IQ</th>\n",
       "    </tr>\n",
       "  </thead>\n",
       "  <tbody>\n",
       "    <tr>\n",
       "      <th>0</th>\n",
       "      <td>6.8</td>\n",
       "      <td>123</td>\n",
       "    </tr>\n",
       "    <tr>\n",
       "      <th>1</th>\n",
       "      <td>5.9</td>\n",
       "      <td>106</td>\n",
       "    </tr>\n",
       "    <tr>\n",
       "      <th>2</th>\n",
       "      <td>5.3</td>\n",
       "      <td>121</td>\n",
       "    </tr>\n",
       "    <tr>\n",
       "      <th>3</th>\n",
       "      <td>7.4</td>\n",
       "      <td>132</td>\n",
       "    </tr>\n",
       "    <tr>\n",
       "      <th>4</th>\n",
       "      <td>5.8</td>\n",
       "      <td>142</td>\n",
       "    </tr>\n",
       "    <tr>\n",
       "      <th>...</th>\n",
       "      <td>...</td>\n",
       "      <td>...</td>\n",
       "    </tr>\n",
       "    <tr>\n",
       "      <th>95</th>\n",
       "      <td>4.3</td>\n",
       "      <td>200</td>\n",
       "    </tr>\n",
       "    <tr>\n",
       "      <th>96</th>\n",
       "      <td>4.4</td>\n",
       "      <td>42</td>\n",
       "    </tr>\n",
       "    <tr>\n",
       "      <th>97</th>\n",
       "      <td>6.7</td>\n",
       "      <td>182</td>\n",
       "    </tr>\n",
       "    <tr>\n",
       "      <th>98</th>\n",
       "      <td>6.3</td>\n",
       "      <td>103</td>\n",
       "    </tr>\n",
       "    <tr>\n",
       "      <th>99</th>\n",
       "      <td>6.2</td>\n",
       "      <td>113</td>\n",
       "    </tr>\n",
       "  </tbody>\n",
       "</table>\n",
       "<p>100 rows × 2 columns</p>\n",
       "</div>"
      ],
      "text/plain": [
       "    CGPA   IQ\n",
       "0    6.8  123\n",
       "1    5.9  106\n",
       "2    5.3  121\n",
       "3    7.4  132\n",
       "4    5.8  142\n",
       "..   ...  ...\n",
       "95   4.3  200\n",
       "96   4.4   42\n",
       "97   6.7  182\n",
       "98   6.3  103\n",
       "99   6.2  113\n",
       "\n",
       "[100 rows x 2 columns]"
      ]
     },
     "execution_count": 16,
     "metadata": {},
     "output_type": "execute_result"
    }
   ],
   "source": [
    "X"
   ]
  },
  {
   "cell_type": "markdown",
   "id": "8bdd14fd",
   "metadata": {},
   "source": [
    "### Get X Standardized"
   ]
  },
  {
   "cell_type": "code",
   "execution_count": 17,
   "id": "b99f4046",
   "metadata": {},
   "outputs": [],
   "source": [
    "from sklearn.preprocessing import StandardScaler"
   ]
  },
  {
   "cell_type": "code",
   "execution_count": 18,
   "id": "ff512fa8",
   "metadata": {},
   "outputs": [],
   "source": [
    "ss=StandardScaler()"
   ]
  },
  {
   "cell_type": "code",
   "execution_count": 19,
   "id": "02f5647a",
   "metadata": {},
   "outputs": [],
   "source": [
    "X=ss.fit_transform(X)"
   ]
  },
  {
   "cell_type": "code",
   "execution_count": 20,
   "id": "66913788",
   "metadata": {},
   "outputs": [
    {
     "data": {
      "text/plain": [
       "array([[ 0.71095807, -0.01459341],\n",
       "       [-0.0799718 , -0.44233119],\n",
       "       [-0.60725838, -0.0649155 ],\n",
       "       [ 1.23824465,  0.21185601],\n",
       "       [-0.16785289,  0.46346647],\n",
       "       [ 0.97460136, -1.90167186],\n",
       "       [-0.25573399,  0.48862751],\n",
       "       [-0.87090167, -1.52425617],\n",
       "       [ 0.0957904 ,  0.81572111],\n",
       "       [-0.78302057, -1.44877303],\n",
       "       [ 0.0079093 , -1.977155  ],\n",
       "       [ 0.79883917,  0.36282228],\n",
       "       [-0.51937728,  0.38798333],\n",
       "       [ 0.35943369, -0.19072073],\n",
       "       [ 0.0957904 , -0.51781433],\n",
       "       [-0.78302057,  1.31894203],\n",
       "       [-0.69513948,  2.52667224],\n",
       "       [-2.36488031,  1.49506935],\n",
       "       [-1.74971264, -0.59329747],\n",
       "       [-0.69513948,  0.21185601],\n",
       "       [ 0.53519588, -0.09007654],\n",
       "       [ 0.97460136,  0.68991588],\n",
       "       [-0.95878277, -0.09007654],\n",
       "       [-1.13454496, -0.92039106],\n",
       "       [-1.13454496, -0.0649155 ],\n",
       "       [-0.87090167, -0.81974688],\n",
       "       [ 0.88672027,  1.89764609],\n",
       "       [ 0.0079093 ,  0.01056764],\n",
       "       [-0.69513948, -0.84490793],\n",
       "       [ 0.88672027, -0.29136491],\n",
       "       [ 1.41400685,  0.11121182],\n",
       "       [-1.83759373, -0.36684805],\n",
       "       [ 0.88672027,  0.38798333],\n",
       "       [ 0.0079093 ,  0.63959379],\n",
       "       [-1.04666386,  0.99184843],\n",
       "       [ 0.71095807, -0.84490793],\n",
       "       [-0.25573399,  0.41314438],\n",
       "       [ 1.85341233,  0.63959379],\n",
       "       [ 0.44731478,  0.9163653 ],\n",
       "       [-1.22242606,  0.56411065],\n",
       "       [-0.95878277,  0.2621781 ],\n",
       "       [-0.51937728, -0.24104282],\n",
       "       [ 1.41400685, -0.87006897],\n",
       "       [ 0.71095807,  0.43830542],\n",
       "       [ 1.32612575, -1.57457826],\n",
       "       [ 0.0079093 , -1.44877303],\n",
       "       [-0.60725838, -0.24104282],\n",
       "       [-0.69513948,  0.94152634],\n",
       "       [ 0.53519588,  0.36282228],\n",
       "       [-0.51937728,  0.28733915],\n",
       "       [-2.18911812,  2.75312165],\n",
       "       [-1.04666386,  0.43830542],\n",
       "       [ 0.88672027,  1.29378099],\n",
       "       [ 2.02917452,  1.11765366],\n",
       "       [ 0.35943369,  0.43830542],\n",
       "       [ 1.58976904, -0.24104282],\n",
       "       [ 0.0957904 , -1.47393408],\n",
       "       [ 0.44731478,  0.16153392],\n",
       "       [ 1.76553123, -1.12167943],\n",
       "       [-1.04666386, -0.29136491],\n",
       "       [ 0.79883917,  0.38798333],\n",
       "       [ 1.15036356,  0.33766124],\n",
       "       [ 0.0079093 , -0.54297537],\n",
       "       [ 0.27155259,  0.11121182],\n",
       "       [ 0.88672027, -1.49909512],\n",
       "       [ 1.85341233,  1.06733157],\n",
       "       [ 0.79883917, -0.69394165],\n",
       "       [-0.87090167, -0.14039864],\n",
       "       [-1.74971264, -1.22232362],\n",
       "       [ 2.20493672, -0.09007654],\n",
       "       [ 0.27155259,  0.08605078],\n",
       "       [ 0.0957904 ,  0.21185601],\n",
       "       [ 1.15036356, -0.19072073],\n",
       "       [-0.95878277, -1.57457826],\n",
       "       [ 0.62307698,  0.76539902],\n",
       "       [-1.04666386,  1.14281471],\n",
       "       [-0.95878277,  0.79056007],\n",
       "       [ 1.15036356, -1.85134977],\n",
       "       [ 0.0957904 , -1.07135734],\n",
       "       [ 0.44731478, -0.84490793],\n",
       "       [-0.95878277,  1.82216295],\n",
       "       [-0.51937728, -0.41717014],\n",
       "       [ 0.44731478, -2.17844336],\n",
       "       [ 1.32612575,  0.16153392],\n",
       "       [-0.25573399,  1.14281471],\n",
       "       [-0.16785289,  1.06733157],\n",
       "       [-0.78302057,  0.11121182],\n",
       "       [-0.25573399,  0.21185601],\n",
       "       [-1.39818825,  0.63959379],\n",
       "       [-0.95878277,  0.68991588],\n",
       "       [ 1.15036356, -0.94555211],\n",
       "       [ 1.32612575,  0.8660432 ],\n",
       "       [-0.69513948, -0.341687  ],\n",
       "       [ 0.71095807, -0.29136491],\n",
       "       [-1.13454496, -1.80102767],\n",
       "       [-1.48606935,  1.92280714],\n",
       "       [-1.39818825, -2.05263813],\n",
       "       [ 0.62307698,  1.46990831],\n",
       "       [ 0.27155259, -0.51781433],\n",
       "       [ 0.18367149, -0.26620387]])"
      ]
     },
     "execution_count": 20,
     "metadata": {},
     "output_type": "execute_result"
    }
   ],
   "source": [
    "X"
   ]
  },
  {
   "cell_type": "code",
   "execution_count": 21,
   "id": "d6377568",
   "metadata": {},
   "outputs": [
    {
     "data": {
      "text/plain": [
       "(100, 2)"
      ]
     },
     "execution_count": 21,
     "metadata": {},
     "output_type": "execute_result"
    }
   ],
   "source": [
    "X.shape"
   ]
  },
  {
   "cell_type": "markdown",
   "id": "224b6608",
   "metadata": {},
   "source": [
    "### Get Train Test Split"
   ]
  },
  {
   "cell_type": "code",
   "execution_count": 22,
   "id": "70143a83",
   "metadata": {},
   "outputs": [],
   "source": [
    "from sklearn.model_selection import train_test_split"
   ]
  },
  {
   "cell_type": "code",
   "execution_count": 23,
   "id": "2a72d81a",
   "metadata": {},
   "outputs": [],
   "source": [
    "X_train,X_test,y_train,y_test=train_test_split(X,y,test_size=0.3,stratify=y,random_state=92529)"
   ]
  },
  {
   "cell_type": "code",
   "execution_count": 24,
   "id": "8aacdc9a",
   "metadata": {},
   "outputs": [
    {
     "data": {
      "text/plain": [
       "((70, 2), (30, 2), (70,), (30,))"
      ]
     },
     "execution_count": 24,
     "metadata": {},
     "output_type": "execute_result"
    }
   ],
   "source": [
    "X_train.shape,X_test.shape,y_train.shape,y_test.shape"
   ]
  },
  {
   "cell_type": "markdown",
   "id": "155c156d",
   "metadata": {},
   "source": [
    "### Get Model Train"
   ]
  },
  {
   "cell_type": "code",
   "execution_count": 25,
   "id": "99910176",
   "metadata": {},
   "outputs": [],
   "source": [
    "from sklearn.linear_model import LogisticRegression"
   ]
  },
  {
   "cell_type": "code",
   "execution_count": 26,
   "id": "ed89c19e",
   "metadata": {},
   "outputs": [],
   "source": [
    "lr=LogisticRegression()"
   ]
  },
  {
   "cell_type": "code",
   "execution_count": 27,
   "id": "39c5490e",
   "metadata": {},
   "outputs": [
    {
     "data": {
      "text/html": [
       "<style>#sk-container-id-1 {color: black;background-color: white;}#sk-container-id-1 pre{padding: 0;}#sk-container-id-1 div.sk-toggleable {background-color: white;}#sk-container-id-1 label.sk-toggleable__label {cursor: pointer;display: block;width: 100%;margin-bottom: 0;padding: 0.3em;box-sizing: border-box;text-align: center;}#sk-container-id-1 label.sk-toggleable__label-arrow:before {content: \"▸\";float: left;margin-right: 0.25em;color: #696969;}#sk-container-id-1 label.sk-toggleable__label-arrow:hover:before {color: black;}#sk-container-id-1 div.sk-estimator:hover label.sk-toggleable__label-arrow:before {color: black;}#sk-container-id-1 div.sk-toggleable__content {max-height: 0;max-width: 0;overflow: hidden;text-align: left;background-color: #f0f8ff;}#sk-container-id-1 div.sk-toggleable__content pre {margin: 0.2em;color: black;border-radius: 0.25em;background-color: #f0f8ff;}#sk-container-id-1 input.sk-toggleable__control:checked~div.sk-toggleable__content {max-height: 200px;max-width: 100%;overflow: auto;}#sk-container-id-1 input.sk-toggleable__control:checked~label.sk-toggleable__label-arrow:before {content: \"▾\";}#sk-container-id-1 div.sk-estimator input.sk-toggleable__control:checked~label.sk-toggleable__label {background-color: #d4ebff;}#sk-container-id-1 div.sk-label input.sk-toggleable__control:checked~label.sk-toggleable__label {background-color: #d4ebff;}#sk-container-id-1 input.sk-hidden--visually {border: 0;clip: rect(1px 1px 1px 1px);clip: rect(1px, 1px, 1px, 1px);height: 1px;margin: -1px;overflow: hidden;padding: 0;position: absolute;width: 1px;}#sk-container-id-1 div.sk-estimator {font-family: monospace;background-color: #f0f8ff;border: 1px dotted black;border-radius: 0.25em;box-sizing: border-box;margin-bottom: 0.5em;}#sk-container-id-1 div.sk-estimator:hover {background-color: #d4ebff;}#sk-container-id-1 div.sk-parallel-item::after {content: \"\";width: 100%;border-bottom: 1px solid gray;flex-grow: 1;}#sk-container-id-1 div.sk-label:hover label.sk-toggleable__label {background-color: #d4ebff;}#sk-container-id-1 div.sk-serial::before {content: \"\";position: absolute;border-left: 1px solid gray;box-sizing: border-box;top: 0;bottom: 0;left: 50%;z-index: 0;}#sk-container-id-1 div.sk-serial {display: flex;flex-direction: column;align-items: center;background-color: white;padding-right: 0.2em;padding-left: 0.2em;position: relative;}#sk-container-id-1 div.sk-item {position: relative;z-index: 1;}#sk-container-id-1 div.sk-parallel {display: flex;align-items: stretch;justify-content: center;background-color: white;position: relative;}#sk-container-id-1 div.sk-item::before, #sk-container-id-1 div.sk-parallel-item::before {content: \"\";position: absolute;border-left: 1px solid gray;box-sizing: border-box;top: 0;bottom: 0;left: 50%;z-index: -1;}#sk-container-id-1 div.sk-parallel-item {display: flex;flex-direction: column;z-index: 1;position: relative;background-color: white;}#sk-container-id-1 div.sk-parallel-item:first-child::after {align-self: flex-end;width: 50%;}#sk-container-id-1 div.sk-parallel-item:last-child::after {align-self: flex-start;width: 50%;}#sk-container-id-1 div.sk-parallel-item:only-child::after {width: 0;}#sk-container-id-1 div.sk-dashed-wrapped {border: 1px dashed gray;margin: 0 0.4em 0.5em 0.4em;box-sizing: border-box;padding-bottom: 0.4em;background-color: white;}#sk-container-id-1 div.sk-label label {font-family: monospace;font-weight: bold;display: inline-block;line-height: 1.2em;}#sk-container-id-1 div.sk-label-container {text-align: center;}#sk-container-id-1 div.sk-container {/* jupyter's `normalize.less` sets `[hidden] { display: none; }` but bootstrap.min.css set `[hidden] { display: none !important; }` so we also need the `!important` here to be able to override the default hidden behavior on the sphinx rendered scikit-learn.org. See: https://github.com/scikit-learn/scikit-learn/issues/21755 */display: inline-block !important;position: relative;}#sk-container-id-1 div.sk-text-repr-fallback {display: none;}</style><div id=\"sk-container-id-1\" class=\"sk-top-container\"><div class=\"sk-text-repr-fallback\"><pre>LogisticRegression()</pre><b>In a Jupyter environment, please rerun this cell to show the HTML representation or trust the notebook. <br />On GitHub, the HTML representation is unable to render, please try loading this page with nbviewer.org.</b></div><div class=\"sk-container\" hidden><div class=\"sk-item\"><div class=\"sk-estimator sk-toggleable\"><input class=\"sk-toggleable__control sk-hidden--visually\" id=\"sk-estimator-id-1\" type=\"checkbox\" checked><label for=\"sk-estimator-id-1\" class=\"sk-toggleable__label sk-toggleable__label-arrow\">LogisticRegression</label><div class=\"sk-toggleable__content\"><pre>LogisticRegression()</pre></div></div></div></div></div>"
      ],
      "text/plain": [
       "LogisticRegression()"
      ]
     },
     "execution_count": 27,
     "metadata": {},
     "output_type": "execute_result"
    }
   ],
   "source": [
    "lr.fit(X_train,y_train)"
   ]
  },
  {
   "cell_type": "markdown",
   "id": "0c6b4b25",
   "metadata": {},
   "source": [
    "### Get Model Prediction"
   ]
  },
  {
   "cell_type": "code",
   "execution_count": 28,
   "id": "d1834a8b",
   "metadata": {},
   "outputs": [],
   "source": [
    "y_pred=lr.predict(X_test)"
   ]
  },
  {
   "cell_type": "code",
   "execution_count": 29,
   "id": "e6618141",
   "metadata": {},
   "outputs": [
    {
     "data": {
      "text/plain": [
       "(30,)"
      ]
     },
     "execution_count": 29,
     "metadata": {},
     "output_type": "execute_result"
    }
   ],
   "source": [
    "y_pred.shape"
   ]
  },
  {
   "cell_type": "code",
   "execution_count": 30,
   "id": "d1865d26",
   "metadata": {},
   "outputs": [
    {
     "data": {
      "text/plain": [
       "array([0, 0, 0, 1, 0, 0, 1, 1, 0, 1, 1, 0, 0, 1, 1, 1, 0, 1, 0, 1, 1, 1,\n",
       "       0, 0, 1, 0, 1, 1, 1, 1], dtype=int64)"
      ]
     },
     "execution_count": 30,
     "metadata": {},
     "output_type": "execute_result"
    }
   ],
   "source": [
    "y_pred"
   ]
  },
  {
   "cell_type": "markdown",
   "id": "4be611e7",
   "metadata": {},
   "source": [
    "### Get Probability of each predicted class"
   ]
  },
  {
   "cell_type": "code",
   "execution_count": 31,
   "id": "c35119e9",
   "metadata": {},
   "outputs": [
    {
     "data": {
      "text/plain": [
       "array([[0.64455539, 0.35544461],\n",
       "       [0.93916617, 0.06083383],\n",
       "       [0.94865306, 0.05134694],\n",
       "       [0.02834725, 0.97165275],\n",
       "       [0.85595238, 0.14404762],\n",
       "       [0.95624347, 0.04375653],\n",
       "       [0.4437668 , 0.5562332 ],\n",
       "       [0.05990068, 0.94009932],\n",
       "       [0.96782808, 0.03217192],\n",
       "       [0.01099541, 0.98900459],\n",
       "       [0.38659021, 0.61340979],\n",
       "       [0.63258193, 0.36741807],\n",
       "       [0.58114718, 0.41885282],\n",
       "       [0.00415097, 0.99584903],\n",
       "       [0.01636962, 0.98363038],\n",
       "       [0.01187471, 0.98812529],\n",
       "       [0.99825465, 0.00174535],\n",
       "       [0.01352788, 0.98647212],\n",
       "       [0.98352581, 0.01647419],\n",
       "       [0.46702249, 0.53297751],\n",
       "       [0.45611275, 0.54388725],\n",
       "       [0.0547289 , 0.9452711 ],\n",
       "       [0.94107565, 0.05892435],\n",
       "       [0.9960009 , 0.0039991 ],\n",
       "       [0.04857768, 0.95142232],\n",
       "       [0.97223795, 0.02776205],\n",
       "       [0.0939974 , 0.9060026 ],\n",
       "       [0.01856389, 0.98143611],\n",
       "       [0.08568139, 0.91431861],\n",
       "       [0.00662216, 0.99337784]])"
      ]
     },
     "execution_count": 31,
     "metadata": {},
     "output_type": "execute_result"
    }
   ],
   "source": [
    "lr.predict_proba(X_test)"
   ]
  },
  {
   "cell_type": "markdown",
   "id": "3ab40873",
   "metadata": {},
   "source": [
    "### Get Model Evaluation"
   ]
  },
  {
   "cell_type": "code",
   "execution_count": 32,
   "id": "e686a0d1",
   "metadata": {},
   "outputs": [],
   "source": [
    "from sklearn.metrics import classification_report,confusion_matrix"
   ]
  },
  {
   "cell_type": "code",
   "execution_count": 33,
   "id": "44057767",
   "metadata": {},
   "outputs": [
    {
     "name": "stdout",
     "output_type": "stream",
     "text": [
      "[[13  2]\n",
      " [ 0 15]]\n"
     ]
    }
   ],
   "source": [
    "print(confusion_matrix(y_test,y_pred))"
   ]
  },
  {
   "cell_type": "code",
   "execution_count": 34,
   "id": "86275b47",
   "metadata": {},
   "outputs": [
    {
     "name": "stdout",
     "output_type": "stream",
     "text": [
      "              precision    recall  f1-score   support\n",
      "\n",
      "           0       1.00      0.87      0.93        15\n",
      "           1       0.88      1.00      0.94        15\n",
      "\n",
      "    accuracy                           0.93        30\n",
      "   macro avg       0.94      0.93      0.93        30\n",
      "weighted avg       0.94      0.93      0.93        30\n",
      "\n"
     ]
    }
   ],
   "source": [
    "print(classification_report(y_test,y_pred))"
   ]
  },
  {
   "cell_type": "markdown",
   "id": "3849a628",
   "metadata": {},
   "source": [
    "### Get Future Predictions"
   ]
  },
  {
   "cell_type": "code",
   "execution_count": 35,
   "id": "5bce2ebf",
   "metadata": {},
   "outputs": [],
   "source": [
    "X_new=df.sample(1)"
   ]
  },
  {
   "cell_type": "code",
   "execution_count": 36,
   "id": "c702d9aa",
   "metadata": {},
   "outputs": [
    {
     "data": {
      "text/html": [
       "<div>\n",
       "<style scoped>\n",
       "    .dataframe tbody tr th:only-of-type {\n",
       "        vertical-align: middle;\n",
       "    }\n",
       "\n",
       "    .dataframe tbody tr th {\n",
       "        vertical-align: top;\n",
       "    }\n",
       "\n",
       "    .dataframe thead th {\n",
       "        text-align: right;\n",
       "    }\n",
       "</style>\n",
       "<table border=\"1\" class=\"dataframe\">\n",
       "  <thead>\n",
       "    <tr style=\"text-align: right;\">\n",
       "      <th></th>\n",
       "      <th>Student_ID</th>\n",
       "      <th>CGPA</th>\n",
       "      <th>IQ</th>\n",
       "      <th>Placement</th>\n",
       "    </tr>\n",
       "  </thead>\n",
       "  <tbody>\n",
       "    <tr>\n",
       "      <th>74</th>\n",
       "      <td>75</td>\n",
       "      <td>6.7</td>\n",
       "      <td>154</td>\n",
       "      <td>1</td>\n",
       "    </tr>\n",
       "  </tbody>\n",
       "</table>\n",
       "</div>"
      ],
      "text/plain": [
       "    Student_ID  CGPA   IQ  Placement\n",
       "74          75   6.7  154          1"
      ]
     },
     "execution_count": 36,
     "metadata": {},
     "output_type": "execute_result"
    }
   ],
   "source": [
    "X_new"
   ]
  },
  {
   "cell_type": "code",
   "execution_count": 37,
   "id": "aef9e5b4",
   "metadata": {},
   "outputs": [
    {
     "data": {
      "text/plain": [
       "(1, 4)"
      ]
     },
     "execution_count": 37,
     "metadata": {},
     "output_type": "execute_result"
    }
   ],
   "source": [
    "X_new.shape"
   ]
  },
  {
   "cell_type": "code",
   "execution_count": 38,
   "id": "bb16cced",
   "metadata": {},
   "outputs": [],
   "source": [
    "X_new=X_new.drop(['Student_ID','Placement'],axis=1)"
   ]
  },
  {
   "cell_type": "code",
   "execution_count": 39,
   "id": "6785cb39",
   "metadata": {},
   "outputs": [
    {
     "data": {
      "text/html": [
       "<div>\n",
       "<style scoped>\n",
       "    .dataframe tbody tr th:only-of-type {\n",
       "        vertical-align: middle;\n",
       "    }\n",
       "\n",
       "    .dataframe tbody tr th {\n",
       "        vertical-align: top;\n",
       "    }\n",
       "\n",
       "    .dataframe thead th {\n",
       "        text-align: right;\n",
       "    }\n",
       "</style>\n",
       "<table border=\"1\" class=\"dataframe\">\n",
       "  <thead>\n",
       "    <tr style=\"text-align: right;\">\n",
       "      <th></th>\n",
       "      <th>CGPA</th>\n",
       "      <th>IQ</th>\n",
       "    </tr>\n",
       "  </thead>\n",
       "  <tbody>\n",
       "    <tr>\n",
       "      <th>74</th>\n",
       "      <td>6.7</td>\n",
       "      <td>154</td>\n",
       "    </tr>\n",
       "  </tbody>\n",
       "</table>\n",
       "</div>"
      ],
      "text/plain": [
       "    CGPA   IQ\n",
       "74   6.7  154"
      ]
     },
     "execution_count": 39,
     "metadata": {},
     "output_type": "execute_result"
    }
   ],
   "source": [
    "X_new"
   ]
  },
  {
   "cell_type": "code",
   "execution_count": 40,
   "id": "771ab552",
   "metadata": {},
   "outputs": [
    {
     "data": {
      "text/plain": [
       "(1, 2)"
      ]
     },
     "execution_count": 40,
     "metadata": {},
     "output_type": "execute_result"
    }
   ],
   "source": [
    "X_new.shape"
   ]
  },
  {
   "cell_type": "code",
   "execution_count": 41,
   "id": "a3e7c096",
   "metadata": {},
   "outputs": [],
   "source": [
    "X_new=ss.fit_transform(X_new)"
   ]
  },
  {
   "cell_type": "code",
   "execution_count": 42,
   "id": "e4d492e0",
   "metadata": {},
   "outputs": [],
   "source": [
    "y_pred_new=lr.predict(X_new)"
   ]
  },
  {
   "cell_type": "code",
   "execution_count": 43,
   "id": "bc144c34",
   "metadata": {},
   "outputs": [
    {
     "data": {
      "text/plain": [
       "array([1], dtype=int64)"
      ]
     },
     "execution_count": 43,
     "metadata": {},
     "output_type": "execute_result"
    }
   ],
   "source": [
    "y_pred_new"
   ]
  },
  {
   "cell_type": "code",
   "execution_count": 44,
   "id": "aec1840e",
   "metadata": {},
   "outputs": [
    {
     "data": {
      "text/plain": [
       "array([[0.46234875, 0.53765125]])"
      ]
     },
     "execution_count": 44,
     "metadata": {},
     "output_type": "execute_result"
    }
   ],
   "source": [
    "lr.predict_proba(X_new)"
   ]
  }
 ],
 "metadata": {
  "kernelspec": {
   "display_name": "Python 3 (ipykernel)",
   "language": "python",
   "name": "python3"
  },
  "language_info": {
   "codemirror_mode": {
    "name": "ipython",
    "version": 3
   },
   "file_extension": ".py",
   "mimetype": "text/x-python",
   "name": "python",
   "nbconvert_exporter": "python",
   "pygments_lexer": "ipython3",
   "version": "3.9.7"
  }
 },
 "nbformat": 4,
 "nbformat_minor": 5
}
